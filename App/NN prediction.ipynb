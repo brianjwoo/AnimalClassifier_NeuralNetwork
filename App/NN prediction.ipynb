{
 "cells": [
  {
   "cell_type": "code",
   "execution_count": null,
   "metadata": {
    "collapsed": true
   },
   "outputs": [],
   "source": [
    "# %load utils.py\n",
    "import pandas as pd\n",
    "import numpy as np\n",
    "import sklearn.preprocessing\n",
    "\n",
    "import skimage\n",
    "import skimage.io\n",
    "import skimage.color\n",
    "import skimage.transform\n",
    "\n",
    "import theano\n",
    "\n",
    "import nolearn.lasagne\n",
    "from lasagne import layers\n",
    "from lasagne.nonlinearities import softmax\n",
    "from lasagne.updates import nesterov_momentum\n",
    "\n",
    "from nolearn.lasagne import NeuralNet, BatchIterator\n",
    "\n",
    "import cPickle as pickle\n",
    "\n",
    "#%matplotlib inline\n",
    "\n",
    "\n",
    "def img_size_standarizer(img, output_size = 128, grey = True):\n",
    "    '''\n",
    "    Using skimage.crop, this function takes an img and crops out the larger areas, then the images are resized to\n",
    "    an appropriate dimension for NN processing. We assume the image is a 3D array (color img)\n",
    "    '''\n",
    "    \n",
    "    d1, d2, c = img.shape\n",
    "    \n",
    "    crop = abs(d2-d1)/2\n",
    "    \n",
    "    if d1 > d2:\n",
    "        new_img = skimage.util.crop(img, ((crop,crop),(0,0), (0,0)))\n",
    "    else:\n",
    "        new_img = skimage.util.crop(img, ((0,0), (crop,crop), (0,0)))\n",
    "\n",
    "    \n",
    "    resize_col_img = skimage.transform.resize(new_img, output_shape=(output_size, output_size, 3))\n",
    "    \n",
    "    if grey:\n",
    "        return skimage.color.rgb2gray(resize_col_img)\n",
    "    else:\n",
    "        return np.swapaxes(np.swapaxes(resize_col_img, 1, 2), 0, 1)\n",
    "    \n",
    "\n",
    "def preprocessing(img):\n",
    "    return skimage.color.rgb2gray(img_size_standarizer(img, 96))\n",
    "\n",
    "def float32(k):\n",
    "    return np.cast['float32'](k)\n",
    "\n",
    "class FlipBatchIterator(BatchIterator):\n",
    "\n",
    "    def transform(self, Xb, yb):\n",
    "        Xb, yb = super(FlipBatchIterator, self).transform(Xb, yb)\n",
    "\n",
    "        # Flip half of the images in this batch at random:\n",
    "        bs = Xb.shape[0]\n",
    "        indices = np.random.choice(bs, bs / 2, replace=False)\n",
    "        Xb[indices] = Xb[indices, :, :, ::-1]\n",
    "\n",
    "        return Xb, yb\n",
    "\n",
    "class AdjustVariable(object):\n",
    "    def __init__(self, name, start=0.03, stop=0.001):\n",
    "        self.name = name\n",
    "        self.start, self.stop = start, stop\n",
    "        self.ls = None\n",
    "\n",
    "    def __call__(self, nn, train_history):\n",
    "        if self.ls is None:\n",
    "            self.ls = np.linspace(self.start, self.stop, nn.max_epochs)\n",
    "\n",
    "        epoch = train_history[-1]['epoch']\n",
    "        new_value = float32(self.ls[epoch - 1])\n",
    "        getattr(nn, self.name).set_value(new_value)\n",
    "\n",
    "class EarlyStopping(object):\n",
    "    def __init__(self, patience=100):\n",
    "        self.patience = patience\n",
    "        self.best_valid = np.inf\n",
    "        self.best_valid_epoch = 0\n",
    "        self.best_weights = None\n",
    "\n",
    "    def __call__(self, nn, train_history):\n",
    "        current_valid = train_history[-1]['valid_loss']\n",
    "        current_epoch = train_history[-1]['epoch']\n",
    "        if current_valid < self.best_valid:\n",
    "            self.best_valid = current_valid\n",
    "            self.best_valid_epoch = current_epoch\n",
    "            self.best_weights = nn.get_all_params_values()\n",
    "        elif self.best_valid_epoch + self.patience < current_epoch:\n",
    "            print(\"Early stopping.\")\n",
    "            print(\"Best valid loss was {:.6f} at epoch {}.\".format(\n",
    "                self.best_valid, self.best_valid_epoch))\n",
    "            nn.load_params_from(self.best_weights)\n",
    "            raise StopIteration()\n",
    "\n",
    "def predict_one(img_matrix):\n",
    "    img_standardized = img_size_standarizer(img_matrix, 106, False)\n",
    "    img_nn = np.array([img_standardized]).astype('float32')\n",
    "    prediction = nn.predict(img_nn)\n",
    "    #prediction_proba = nn.predict_proba(img_nn)\n",
    "    #print prediction[0], np.max(prediction_proba[0])\n",
    "    return prediction\n",
    "\n",
    "\n",
    "\n"
   ]
  },
  {
   "cell_type": "code",
   "execution_count": 1,
   "metadata": {
    "collapsed": false
   },
   "outputs": [
    {
     "name": "stderr",
     "output_type": "stream",
     "text": [
      "Using gpu device 0: GRID K520 (CNMeM is disabled)\n"
     ]
    }
   ],
   "source": [
    "# %load app.py\n",
    "#! /usr/bin/env python\n",
    "\n",
    "import os\n",
    "import sys\n",
    "import random\n",
    "import pandas as pd\n",
    "from flask import Flask, render_template, request\n",
    "from image_request import *\n",
    "from utils import *\n",
    "\n",
    "\n",
    "\n",
    "\n",
    "with open('nn.pkl') as f:\n",
    "    nn = pickle.load(f)\n",
    "\n"
   ]
  },
  {
   "cell_type": "code",
   "execution_count": 4,
   "metadata": {
    "collapsed": false
   },
   "outputs": [],
   "source": [
    "url = 'http://i.imgur.com/Ty09S43.jpg'\n",
    "url2 = 'http://i.imgur.com/Hj1kr63.jpg'\n",
    "img_name, img_matrix = import_img(url2)\n",
    "prediction = predict_one(img_matrix, nn)"
   ]
  },
  {
   "cell_type": "code",
   "execution_count": 5,
   "metadata": {
    "collapsed": false
   },
   "outputs": [
    {
     "name": "stdout",
     "output_type": "stream",
     "text": [
      "[1]\n"
     ]
    }
   ],
   "source": [
    "print prediction"
   ]
  },
  {
   "cell_type": "code",
   "execution_count": 6,
   "metadata": {
    "collapsed": false
   },
   "outputs": [
    {
     "data": {
      "text/plain": [
       "1"
      ]
     },
     "execution_count": 6,
     "metadata": {},
     "output_type": "execute_result"
    }
   ],
   "source": [
    "prediction[0]"
   ]
  },
  {
   "cell_type": "code",
   "execution_count": 7,
   "metadata": {
    "collapsed": false
   },
   "outputs": [
    {
     "data": {
      "text/plain": [
       "'1'"
      ]
     },
     "execution_count": 7,
     "metadata": {},
     "output_type": "execute_result"
    }
   ],
   "source": [
    "str(prediction[0])"
   ]
  },
  {
   "cell_type": "code",
   "execution_count": null,
   "metadata": {
    "collapsed": true
   },
   "outputs": [],
   "source": []
  }
 ],
 "metadata": {
  "kernelspec": {
   "display_name": "Python 2",
   "language": "python",
   "name": "python2"
  },
  "language_info": {
   "codemirror_mode": {
    "name": "ipython",
    "version": 2
   },
   "file_extension": ".py",
   "mimetype": "text/x-python",
   "name": "python",
   "nbconvert_exporter": "python",
   "pygments_lexer": "ipython2",
   "version": "2.7.10"
  }
 },
 "nbformat": 4,
 "nbformat_minor": 0
}
